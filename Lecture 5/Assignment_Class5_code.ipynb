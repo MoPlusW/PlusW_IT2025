{
  "cells": [
    {
      "cell_type": "code",
      "source": [
        "import os\n",
        "import glob\n",
        "import shutil\n",
        "import pandas as pd\n",
        "\n",
        "from google.colab import drive\n",
        "drive.mount('/content/drive')"
      ],
      "metadata": {
        "colab": {
          "base_uri": "https://localhost:8080/"
        },
        "id": "Yy4mKyx1wE0F",
        "outputId": "469b897c-fb8e-4df2-ccd0-7dac89f1195f"
      },
      "id": "Yy4mKyx1wE0F",
      "execution_count": null,
      "outputs": [
        {
          "output_type": "stream",
          "name": "stdout",
          "text": [
            "Drive already mounted at /content/drive; to attempt to forcibly remount, call drive.mount(\"/content/drive\", force_remount=True).\n"
          ]
        }
      ]
    },
    {
      "cell_type": "code",
      "source": [
        "# Move all CSV files to a backup folder\n",
        "csv_files = glob.glob(\"/content/drive/MyDrive/Colab Notebooks/PlusW/Lecture 5/csv_files/*.csv\")\n",
        "for file in csv_files:\n",
        "    shutil.move(file, \"/content/drive/MyDrive/Colab Notebooks/PlusW/Lecture 5/backup_folder/\")\n",
        "    print(f\"Moved file: {file}\")\n",
        "\n",
        "# Automating Export Function\n",
        "def export_data(df, filename, format):\n",
        "    if format == \"csv\":\n",
        "        df.to_csv(filename, index=False)\n",
        "        print(f\"Data exported to {filename} in CSV format.\")\n",
        "    elif format == \"json\":\n",
        "        df.to_json(filename, orient=\"records\")\n",
        "        print(f\"Data exported to {filename} in JSON format.\")\n",
        "    else:\n",
        "        print(\"Unsupported format.\")\n",
        "\n",
        "# Example usage:\n",
        "# Creating a sample dataframe\n",
        "data = {'Name': ['Alice', 'Bob', 'Charlie'],\n",
        "        'Age': [25, 30, 35],\n",
        "        'City': ['New York', 'Los Angeles', 'Chicago']}\n",
        "df = pd.DataFrame(data)\n",
        "\n",
        "# Exporting to CSV\n",
        "export_data(df, \"output.csv\", \"csv\")\n",
        "\n",
        "# Exporting to JSON\n",
        "export_data(df, \"output.json\", \"json\")\n"
      ],
      "metadata": {
        "colab": {
          "base_uri": "https://localhost:8080/"
        },
        "id": "SeFVUTCaxJSu",
        "outputId": "812fcb40-88a2-47e1-8a06-b7e863f7c3f5"
      },
      "id": "SeFVUTCaxJSu",
      "execution_count": null,
      "outputs": [
        {
          "output_type": "stream",
          "name": "stdout",
          "text": [
            "Moved file: /content/drive/MyDrive/Colab Notebooks/PlusW/Lecture 5/csv_files/data.csv\n",
            "Moved file: /content/drive/MyDrive/Colab Notebooks/PlusW/Lecture 5/csv_files/data1.csv\n",
            "Moved file: /content/drive/MyDrive/Colab Notebooks/PlusW/Lecture 5/csv_files/data2.csv\n",
            "Data exported to output.csv in CSV format.\n",
            "Data exported to output.json in JSON format.\n"
          ]
        }
      ]
    },
    {
      "cell_type": "code",
      "source": [
        "import yfinance as yf\n",
        "import sqlite3\n",
        "import pandas as pd\n",
        "import time"
      ],
      "metadata": {
        "id": "1hcH-qB8zJy9"
      },
      "id": "1hcH-qB8zJy9",
      "execution_count": 12,
      "outputs": []
    },
    {
      "cell_type": "code",
      "source": [
        "# Database setup\n",
        "db_name = \"/content/drive/MyDrive/Colab Notebooks/PlusW/Lecture 5/stocks.db\"\n",
        "conn = sqlite3.connect(db_name)\n",
        "cursor = conn.cursor()\n",
        "\n",
        "cursor.execute('''CREATE TABLE IF NOT EXISTS stock_data (\n",
        "    id INTEGER PRIMARY KEY AUTOINCREMENT,\n",
        "    symbol TEXT,\n",
        "    timestamp DATETIME DEFAULT CURRENT_TIMESTAMP,\n",
        "    open REAL,\n",
        "    high REAL,\n",
        "    low REAL,\n",
        "    close REAL,\n",
        "    volume INTEGER)''')\n",
        "conn.commit()\n",
        "\n",
        "# Function to fetch stock data\n",
        "def fetch_stock_data(symbol):\n",
        "    try:\n",
        "        stock = yf.Ticker(symbol)\n",
        "        data = stock.history(period=\"1d\", interval=\"1m\")\n",
        "\n",
        "        if data.empty:\n",
        "            print(f\"No data found for {symbol}. Skipping...\")\n",
        "            return None  # Return None if no data is available\n",
        "\n",
        "        latest = data.iloc[-1]  # Get the most recent price data\n",
        "        return {\n",
        "            \"symbol\": symbol,\n",
        "            \"open\": latest[\"Open\"],\n",
        "            \"high\": latest[\"High\"],\n",
        "            \"low\": latest[\"Low\"],\n",
        "            \"close\": latest[\"Close\"],\n",
        "            \"volume\": latest[\"Volume\"]\n",
        "        }\n",
        "    except Exception as e:\n",
        "        print(f\"Error fetching data for {symbol}: {e}\")\n",
        "        return None\n",
        "\n",
        "# Function to store data in SQLite\n",
        "def store_data(symbol):\n",
        "    stock_data = fetch_stock_data(symbol)\n",
        "\n",
        "    if stock_data:  # Only store if data is available\n",
        "        cursor.execute('''INSERT INTO stock_data (symbol, open, high, low, close, volume)\n",
        "                        VALUES (?, ?, ?, ?, ?, ?)''',\n",
        "                       (stock_data[\"symbol\"], stock_data[\"open\"],\n",
        "                        stock_data[\"high\"], stock_data[\"low\"],\n",
        "                        stock_data[\"close\"], stock_data[\"volume\"]))\n",
        "        conn.commit()  # Commit after insert\n",
        "        print(f\"Stored data for {symbol}\")\n",
        "\n",
        "# Function to analyze stock data\n",
        "def analyze_stock(symbol):\n",
        "    df = pd.read_sql_query(\"SELECT * FROM stock_data WHERE symbol=? ORDER BY timestamp DESC LIMIT 100\", conn, params=(symbol,))\n",
        "    print(df)\n",
        "\n",
        "# Example Usage\n",
        "symbol = \"Gold\"  # Gold asset\n",
        "for _ in range(5):  # Fetch data 5 times with intervals\n",
        "    store_data(symbol)\n",
        "    time.sleep(60)  # Wait for 1 minute before fetching again\n",
        "\n",
        "analyze_stock(symbol)\n",
        "\n",
        "# Close database connection\n",
        "conn.close()"
      ],
      "metadata": {
        "colab": {
          "base_uri": "https://localhost:8080/"
        },
        "id": "F4MFkTFYzNdY",
        "outputId": "bd55865a-fb3c-4730-e3a1-d69c23858241"
      },
      "id": "F4MFkTFYzNdY",
      "execution_count": 14,
      "outputs": [
        {
          "output_type": "stream",
          "name": "stdout",
          "text": [
            "Stored data for Gold\n",
            "Stored data for Gold\n",
            "Stored data for Gold\n",
            "Stored data for Gold\n",
            "Stored data for Gold\n",
            "   id symbol            timestamp       open       high    low  close  volume\n",
            "0   5   Gold  2025-02-25 11:20:56  18.264999  18.280001  18.26  18.27  473488\n",
            "1   4   Gold  2025-02-25 11:19:56  18.264999  18.280001  18.26  18.27  473488\n",
            "2   3   Gold  2025-02-25 11:18:56  18.264999  18.280001  18.26  18.27  473488\n",
            "3   2   Gold  2025-02-25 11:17:56  18.264999  18.280001  18.26  18.27  473488\n",
            "4   1   Gold  2025-02-25 11:16:56  18.264999  18.280001  18.26  18.27  473488\n"
          ]
        }
      ]
    },
    {
      "cell_type": "code",
      "source": [
        "import requests\n",
        "from bs4 import BeautifulSoup\n",
        "import pandas as pd"
      ],
      "metadata": {
        "id": "jJl_hR290zuc"
      },
      "id": "jJl_hR290zuc",
      "execution_count": 15,
      "outputs": []
    },
    {
      "cell_type": "code",
      "source": [
        "URL = \"https://boards.4chan.org/g/\"\n",
        "HEADERS = {\"User-Agent\": \"Mozilla/5.0\"}\n",
        "\n",
        "def get_posts(url):\n",
        "    response = requests.get(url, headers=HEADERS)\n",
        "    soup = BeautifulSoup(response.text, \"html.parser\")\n",
        "    threads = soup.find_all(\"div\", class_=\"thread\")\n",
        "    post_list = []\n",
        "    for thread in threads:\n",
        "        title = thread.find(\"span\", class_=\"subject\").text if thread.find(\"span\", class_=\"subject\") else \"No title\"\n",
        "        poster = thread.find(\"span\", class_=\"name\").text if thread.find(\"span\", class_=\"name\") else \"Anonymous\"\n",
        "        post_content = thread.find(\"blockquote\").text.strip() if thread.find(\"blockquote\") else \"No content\"\n",
        "        post_list.append({\"Title\": title, \"Poster\": poster, \"Content\": post_content})\n",
        "    return post_list\n",
        "\n",
        "posts_data = get_posts(URL)\n",
        "df = pd.DataFrame(posts_data)\n",
        "df.to_csv(\"/content/drive/MyDrive/Colab Notebooks/PlusW/Lecture 5/4chan_posts.csv\", index=False)\n",
        "print(\"Data saved to 4chan_posts.csv\")"
      ],
      "metadata": {
        "colab": {
          "base_uri": "https://localhost:8080/"
        },
        "id": "-r1rPfUt2vkp",
        "outputId": "dbb9468d-e040-4a08-853c-4f917e2af597"
      },
      "id": "-r1rPfUt2vkp",
      "execution_count": 22,
      "outputs": [
        {
          "output_type": "stream",
          "name": "stdout",
          "text": [
            "Data saved to 4chan_posts.csv\n"
          ]
        }
      ]
    }
  ],
  "metadata": {
    "colab": {
      "provenance": []
    },
    "language_info": {
      "name": "python"
    },
    "kernelspec": {
      "name": "python3",
      "display_name": "Python 3"
    }
  },
  "nbformat": 4,
  "nbformat_minor": 5
}