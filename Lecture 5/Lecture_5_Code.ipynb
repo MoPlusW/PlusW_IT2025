{
  "cells": [
    {
      "cell_type": "code",
      "source": [
        "we is test"
      ],
      "metadata": {
        "id": "7zCfW-mlgnhI"
      },
      "id": "7zCfW-mlgnhI",
      "execution_count": null,
      "outputs": []
    }
  ],
  "metadata": {
    "colab": {
      "provenance": []
    }
  },
  "nbformat": 4,
  "nbformat_minor": 5
}