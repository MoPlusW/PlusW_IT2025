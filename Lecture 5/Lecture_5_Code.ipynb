{
  "cells": [
    {
      "cell_type": "code",
      "source": [
        "import numpy as np"
      ],
      "metadata": {
        "id": "7zCfW-mlgnhI"
      },
      "id": "7zCfW-mlgnhI",
      "execution_count": 2,
      "outputs": []
    },
    {
      "cell_type": "code",
      "source": [
        "# Vector operations\n",
        "\n",
        "# Dot Product\n",
        "\n",
        "a = np.array([1, 2, 3])\n",
        "b = np.array([4, 5, 6])\n",
        "\n",
        "dot_product = np.dot(a, b)\n",
        "print(dot_product)"
      ],
      "metadata": {
        "colab": {
          "base_uri": "https://localhost:8080/"
        },
        "id": "iz9jSGaKweJH",
        "outputId": "8db071a7-94d8-4ff4-a475-66a448f608de"
      },
      "id": "iz9jSGaKweJH",
      "execution_count": null,
      "outputs": [
        {
          "output_type": "stream",
          "name": "stdout",
          "text": [
            "32\n"
          ]
        }
      ]
    },
    {
      "cell_type": "code",
      "source": [
        "# Cross Product\n",
        "\n",
        "a = np.array([1, 2, 3])\n",
        "b = np.array([4, 5, 6])\n",
        "\n",
        "cross_product = np.cross(a, b)\n",
        "print(cross_product)"
      ],
      "metadata": {
        "colab": {
          "base_uri": "https://localhost:8080/"
        },
        "id": "VpKKeSmgxIjy",
        "outputId": "69923eea-987c-4d18-eb52-9fca15b02df3"
      },
      "id": "VpKKeSmgxIjy",
      "execution_count": null,
      "outputs": [
        {
          "output_type": "stream",
          "name": "stdout",
          "text": [
            "[-3  6 -3]\n"
          ]
        }
      ]
    },
    {
      "cell_type": "code",
      "source": [
        "# Magnitude\n",
        "\n",
        "a = np.array([2, 3])\n",
        "magnitude = np.linalg.norm(a)\n",
        "print (magnitude) # sqrt(2^2 + 3^2)"
      ],
      "metadata": {
        "colab": {
          "base_uri": "https://localhost:8080/"
        },
        "id": "IQaeAR15xZao",
        "outputId": "fe97ef8a-1997-4eb1-d93c-4e465c33bd21"
      },
      "id": "IQaeAR15xZao",
      "execution_count": null,
      "outputs": [
        {
          "output_type": "stream",
          "name": "stdout",
          "text": [
            "3.605551275463989\n"
          ]
        }
      ]
    },
    {
      "cell_type": "code",
      "source": [
        "# Matrix Multiplication\n",
        "\n",
        "a = np.array([1, 2, 3])\n",
        "b = np.array([4, 5, 6])\n",
        "\n",
        "result_mult = a@b\n",
        "print(result_mult)\n",
        "\n",
        "result_mult1 = np.matmul(a, b)\n",
        "print(result_mult1)"
      ],
      "metadata": {
        "colab": {
          "base_uri": "https://localhost:8080/"
        },
        "id": "HdKvoKmSxzMW",
        "outputId": "a392c61a-b267-47c4-e249-cee3767f1087"
      },
      "id": "HdKvoKmSxzMW",
      "execution_count": null,
      "outputs": [
        {
          "output_type": "stream",
          "name": "stdout",
          "text": [
            "32\n",
            "32\n"
          ]
        }
      ]
    },
    {
      "cell_type": "code",
      "source": [
        "# Matrix Transpose\n",
        "\n",
        "a = np.array([[1, 2, 3], [4, 5, 6]])\n",
        "transpose_a = a.T\n",
        "print(transpose_a)"
      ],
      "metadata": {
        "colab": {
          "base_uri": "https://localhost:8080/"
        },
        "id": "7IpMURpcyV7u",
        "outputId": "c1ec0db0-af74-4e17-9029-9f86c3940f92"
      },
      "id": "7IpMURpcyV7u",
      "execution_count": null,
      "outputs": [
        {
          "output_type": "stream",
          "name": "stdout",
          "text": [
            "[[1 4]\n",
            " [2 5]\n",
            " [3 6]]\n"
          ]
        }
      ]
    },
    {
      "cell_type": "code",
      "source": [
        "# Matrix Determinant\n",
        "\n",
        "a = np.array([[1, 2], [3, 4]])\n",
        "determinant_a = np.linalg.det(a)\n",
        "print(determinant_a)"
      ],
      "metadata": {
        "colab": {
          "base_uri": "https://localhost:8080/"
        },
        "id": "dyvwUarWyr6N",
        "outputId": "ba7b2ef2-a760-4df3-e587-9ebeb65fdd9b"
      },
      "id": "dyvwUarWyr6N",
      "execution_count": null,
      "outputs": [
        {
          "output_type": "stream",
          "name": "stdout",
          "text": [
            "-2.0000000000000004\n"
          ]
        }
      ]
    },
    {
      "cell_type": "code",
      "source": [
        "# Matrix Inverse\n",
        "\n",
        "a = np.array([[1, 2], [3, 4]])\n",
        "inv_a = np.linalg.inv(a)\n",
        "print(inv_a)\n",
        "\n",
        "b = np.array([[2, 2], [2, 2]]) # Singluar matrix (det = 0) expecting error\n",
        "inv_b = np.linalg.inv(b)\n",
        "print(inv_b)"
      ],
      "metadata": {
        "id": "CYXnj6XKzBj0",
        "colab": {
          "base_uri": "https://localhost:8080/",
          "height": 373
        },
        "outputId": "f69e7735-aef0-46a2-c74a-e1a05db82cf8"
      },
      "id": "CYXnj6XKzBj0",
      "execution_count": 6,
      "outputs": [
        {
          "output_type": "stream",
          "name": "stdout",
          "text": [
            "[[-2.   1. ]\n",
            " [ 1.5 -0.5]]\n"
          ]
        },
        {
          "output_type": "error",
          "ename": "LinAlgError",
          "evalue": "Singular matrix",
          "traceback": [
            "\u001b[0;31m---------------------------------------------------------------------------\u001b[0m",
            "\u001b[0;31mLinAlgError\u001b[0m                               Traceback (most recent call last)",
            "\u001b[0;32m<ipython-input-6-526147b62ec4>\u001b[0m in \u001b[0;36m<cell line: 0>\u001b[0;34m()\u001b[0m\n\u001b[1;32m      6\u001b[0m \u001b[0;34m\u001b[0m\u001b[0m\n\u001b[1;32m      7\u001b[0m \u001b[0mb\u001b[0m \u001b[0;34m=\u001b[0m \u001b[0mnp\u001b[0m\u001b[0;34m.\u001b[0m\u001b[0marray\u001b[0m\u001b[0;34m(\u001b[0m\u001b[0;34m[\u001b[0m\u001b[0;34m[\u001b[0m\u001b[0;36m2\u001b[0m\u001b[0;34m,\u001b[0m \u001b[0;36m2\u001b[0m\u001b[0;34m]\u001b[0m\u001b[0;34m,\u001b[0m \u001b[0;34m[\u001b[0m\u001b[0;36m2\u001b[0m\u001b[0;34m,\u001b[0m \u001b[0;36m2\u001b[0m\u001b[0;34m]\u001b[0m\u001b[0;34m]\u001b[0m\u001b[0;34m)\u001b[0m\u001b[0;34m\u001b[0m\u001b[0;34m\u001b[0m\u001b[0m\n\u001b[0;32m----> 8\u001b[0;31m \u001b[0minv_b\u001b[0m \u001b[0;34m=\u001b[0m \u001b[0mnp\u001b[0m\u001b[0;34m.\u001b[0m\u001b[0mlinalg\u001b[0m\u001b[0;34m.\u001b[0m\u001b[0minv\u001b[0m\u001b[0;34m(\u001b[0m\u001b[0mb\u001b[0m\u001b[0;34m)\u001b[0m\u001b[0;34m\u001b[0m\u001b[0;34m\u001b[0m\u001b[0m\n\u001b[0m\u001b[1;32m      9\u001b[0m \u001b[0mprint\u001b[0m\u001b[0;34m(\u001b[0m\u001b[0minv_b\u001b[0m\u001b[0;34m)\u001b[0m\u001b[0;34m\u001b[0m\u001b[0;34m\u001b[0m\u001b[0m\n",
            "\u001b[0;32m/usr/local/lib/python3.11/dist-packages/numpy/linalg/linalg.py\u001b[0m in \u001b[0;36minv\u001b[0;34m(a)\u001b[0m\n\u001b[1;32m    559\u001b[0m     \u001b[0msignature\u001b[0m \u001b[0;34m=\u001b[0m \u001b[0;34m'D->D'\u001b[0m \u001b[0;32mif\u001b[0m \u001b[0misComplexType\u001b[0m\u001b[0;34m(\u001b[0m\u001b[0mt\u001b[0m\u001b[0;34m)\u001b[0m \u001b[0;32melse\u001b[0m \u001b[0;34m'd->d'\u001b[0m\u001b[0;34m\u001b[0m\u001b[0;34m\u001b[0m\u001b[0m\n\u001b[1;32m    560\u001b[0m     \u001b[0mextobj\u001b[0m \u001b[0;34m=\u001b[0m \u001b[0mget_linalg_error_extobj\u001b[0m\u001b[0;34m(\u001b[0m\u001b[0m_raise_linalgerror_singular\u001b[0m\u001b[0;34m)\u001b[0m\u001b[0;34m\u001b[0m\u001b[0;34m\u001b[0m\u001b[0m\n\u001b[0;32m--> 561\u001b[0;31m     \u001b[0mainv\u001b[0m \u001b[0;34m=\u001b[0m \u001b[0m_umath_linalg\u001b[0m\u001b[0;34m.\u001b[0m\u001b[0minv\u001b[0m\u001b[0;34m(\u001b[0m\u001b[0ma\u001b[0m\u001b[0;34m,\u001b[0m \u001b[0msignature\u001b[0m\u001b[0;34m=\u001b[0m\u001b[0msignature\u001b[0m\u001b[0;34m,\u001b[0m \u001b[0mextobj\u001b[0m\u001b[0;34m=\u001b[0m\u001b[0mextobj\u001b[0m\u001b[0;34m)\u001b[0m\u001b[0;34m\u001b[0m\u001b[0;34m\u001b[0m\u001b[0m\n\u001b[0m\u001b[1;32m    562\u001b[0m     \u001b[0;32mreturn\u001b[0m \u001b[0mwrap\u001b[0m\u001b[0;34m(\u001b[0m\u001b[0mainv\u001b[0m\u001b[0;34m.\u001b[0m\u001b[0mastype\u001b[0m\u001b[0;34m(\u001b[0m\u001b[0mresult_t\u001b[0m\u001b[0;34m,\u001b[0m \u001b[0mcopy\u001b[0m\u001b[0;34m=\u001b[0m\u001b[0;32mFalse\u001b[0m\u001b[0;34m)\u001b[0m\u001b[0;34m)\u001b[0m\u001b[0;34m\u001b[0m\u001b[0;34m\u001b[0m\u001b[0m\n\u001b[1;32m    563\u001b[0m \u001b[0;34m\u001b[0m\u001b[0m\n",
            "\u001b[0;32m/usr/local/lib/python3.11/dist-packages/numpy/linalg/linalg.py\u001b[0m in \u001b[0;36m_raise_linalgerror_singular\u001b[0;34m(err, flag)\u001b[0m\n\u001b[1;32m    110\u001b[0m \u001b[0;34m\u001b[0m\u001b[0m\n\u001b[1;32m    111\u001b[0m \u001b[0;32mdef\u001b[0m \u001b[0m_raise_linalgerror_singular\u001b[0m\u001b[0;34m(\u001b[0m\u001b[0merr\u001b[0m\u001b[0;34m,\u001b[0m \u001b[0mflag\u001b[0m\u001b[0;34m)\u001b[0m\u001b[0;34m:\u001b[0m\u001b[0;34m\u001b[0m\u001b[0;34m\u001b[0m\u001b[0m\n\u001b[0;32m--> 112\u001b[0;31m     \u001b[0;32mraise\u001b[0m \u001b[0mLinAlgError\u001b[0m\u001b[0;34m(\u001b[0m\u001b[0;34m\"Singular matrix\"\u001b[0m\u001b[0;34m)\u001b[0m\u001b[0;34m\u001b[0m\u001b[0;34m\u001b[0m\u001b[0m\n\u001b[0m\u001b[1;32m    113\u001b[0m \u001b[0;34m\u001b[0m\u001b[0m\n\u001b[1;32m    114\u001b[0m \u001b[0;32mdef\u001b[0m \u001b[0m_raise_linalgerror_nonposdef\u001b[0m\u001b[0;34m(\u001b[0m\u001b[0merr\u001b[0m\u001b[0;34m,\u001b[0m \u001b[0mflag\u001b[0m\u001b[0;34m)\u001b[0m\u001b[0;34m:\u001b[0m\u001b[0;34m\u001b[0m\u001b[0;34m\u001b[0m\u001b[0m\n",
            "\u001b[0;31mLinAlgError\u001b[0m: Singular matrix"
          ]
        }
      ]
    },
    {
      "cell_type": "code",
      "source": [
        "# Eigen values and Vectors\n",
        "\n",
        "a = np.array([[1, 2], [3, 4]])\n",
        "eigen_values, eigen_vectors = np.linalg.eig(a)\n",
        "\n",
        "print(eigen_values)\n",
        "print(\"\\n\", eigen_vectors)"
      ],
      "metadata": {
        "colab": {
          "base_uri": "https://localhost:8080/"
        },
        "id": "CAig9nWgEmmt",
        "outputId": "9be59360-8aa7-4be6-8f1c-3a86f51b5c53"
      },
      "id": "CAig9nWgEmmt",
      "execution_count": 10,
      "outputs": [
        {
          "output_type": "stream",
          "name": "stdout",
          "text": [
            "[-0.37228132  5.37228132]\n",
            "\n",
            " [[-0.82456484 -0.41597356]\n",
            " [ 0.56576746 -0.90937671]]\n"
          ]
        }
      ]
    },
    {
      "cell_type": "code",
      "source": [
        "# Solving linear equations\n",
        "\n",
        "a = np.array([[2, 3], [3, 2]])\n",
        "b = np.array([3, 3])\n",
        "\n",
        "solution = np.linalg.solve(a, b)\n",
        "print(solution)"
      ],
      "metadata": {
        "colab": {
          "base_uri": "https://localhost:8080/"
        },
        "id": "vhtqABM_VHOE",
        "outputId": "29e56ee5-a38d-4538-c21c-052178929a3a"
      },
      "id": "vhtqABM_VHOE",
      "execution_count": 14,
      "outputs": [
        {
          "output_type": "stream",
          "name": "stdout",
          "text": [
            "[0.6 0.6]\n"
          ]
        }
      ]
    },
    {
      "cell_type": "code",
      "source": [
        "# Concatenate\n",
        "\n",
        "a = np.array([1, 2, 3])\n",
        "b = np.array([4, 5, 6])\n",
        "\n",
        "c = np.concatenate((a, b))\n",
        "print(c)"
      ],
      "metadata": {
        "colab": {
          "base_uri": "https://localhost:8080/"
        },
        "id": "XkGlcDD6Wb1z",
        "outputId": "8c9348c0-b5a5-4a34-b804-7174ef5c34ee"
      },
      "id": "XkGlcDD6Wb1z",
      "execution_count": 15,
      "outputs": [
        {
          "output_type": "stream",
          "name": "stdout",
          "text": [
            "[1 2 3 4 5 6]\n"
          ]
        }
      ]
    },
    {
      "cell_type": "code",
      "source": [
        "# Vertical Stacking\n",
        "\n",
        "a = np.array([1, 2])\n",
        "b = np.array([3, 4])\n",
        "\n",
        "c = np.vstack((a, b))\n",
        "print(c.ndim)"
      ],
      "metadata": {
        "colab": {
          "base_uri": "https://localhost:8080/"
        },
        "id": "6RZsB-woXH_d",
        "outputId": "dc0b47ed-895e-4a7f-e2e3-6b972f099960"
      },
      "id": "6RZsB-woXH_d",
      "execution_count": 20,
      "outputs": [
        {
          "output_type": "stream",
          "name": "stdout",
          "text": [
            "2\n"
          ]
        }
      ]
    },
    {
      "cell_type": "code",
      "source": [
        "# Horizontal Stacking\n",
        "\n",
        "a = np.array([1, 2])\n",
        "b = np.array([3, 4])\n",
        "\n",
        "c = np.hstack((a, b))\n",
        "print(c.ndim)"
      ],
      "metadata": {
        "colab": {
          "base_uri": "https://localhost:8080/"
        },
        "id": "M591u3pcXe2d",
        "outputId": "183aa572-46b3-4269-e960-0ac4ffbc5b87"
      },
      "id": "M591u3pcXe2d",
      "execution_count": 21,
      "outputs": [
        {
          "output_type": "stream",
          "name": "stdout",
          "text": [
            "1\n"
          ]
        }
      ]
    },
    {
      "cell_type": "code",
      "source": [
        "# Depth Stacking\n",
        "\n",
        "a = np.array([[1, 2], [3, 4]])\n",
        "b = np.array([[5, 6], [7, 8]])\n",
        "\n",
        "c = np.dstack((a, b))\n",
        "print(c.ndim)"
      ],
      "metadata": {
        "colab": {
          "base_uri": "https://localhost:8080/"
        },
        "id": "_TxSodukX7mA",
        "outputId": "74d1d038-6c26-4aef-ffd2-dcd21fb904c5"
      },
      "id": "_TxSodukX7mA",
      "execution_count": 22,
      "outputs": [
        {
          "output_type": "stream",
          "name": "stdout",
          "text": [
            "3\n"
          ]
        }
      ]
    },
    {
      "cell_type": "code",
      "source": [
        "# Splitting arrays\n",
        "\n",
        "arr = np.array([1, 2, 3, 4, 5, 6])\n",
        "print(arr)\n",
        "split = np.split(arr, 3)\n",
        "print(split)\n",
        "\n",
        "# Vertical Split (row wise)\n",
        "\n",
        "a = np.array([[1, 2], [3, 4], [5, 6]])\n",
        "print(\"\\n\", a)\n",
        "v_split = np.vsplit(a, 3)\n",
        "print(v_split)\n",
        "\n",
        "\n",
        "# Horizontal Split (column wise)\n",
        "\n",
        "b = np.array([[1, 2, 3], [4, 5, 6]])\n",
        "print(\"\\n\", b)\n",
        "h_split = np.hsplit(b, 3)\n",
        "print(h_split)"
      ],
      "metadata": {
        "colab": {
          "base_uri": "https://localhost:8080/"
        },
        "id": "LKXgsLhsYgy6",
        "outputId": "fd84b3aa-3f15-4bda-988c-e28e053cb8d8"
      },
      "id": "LKXgsLhsYgy6",
      "execution_count": 32,
      "outputs": [
        {
          "output_type": "stream",
          "name": "stdout",
          "text": [
            "[1 2 3 4 5 6]\n",
            "[array([1, 2]), array([3, 4]), array([5, 6])]\n",
            "\n",
            " [[1 2]\n",
            " [3 4]\n",
            " [5 6]]\n",
            "[array([[1, 2]]), array([[3, 4]]), array([[5, 6]])]\n",
            "\n",
            " [[1 2 3]\n",
            " [4 5 6]]\n",
            "[array([[1],\n",
            "       [4]]), array([[2],\n",
            "       [5]]), array([[3],\n",
            "       [6]])]\n"
          ]
        }
      ]
    },
    {
      "cell_type": "code",
      "source": [
        "# Tiling and repeating\n",
        "\n",
        "a = np.array([1, 2, 3])\n",
        "tile = np.tile(a, (2, 3))\n",
        "print(tile)\n",
        "\n",
        "repeat = np.repeat(a, 3)\n",
        "print(\"\\n\", repeat)"
      ],
      "metadata": {
        "colab": {
          "base_uri": "https://localhost:8080/"
        },
        "id": "zxMSOehFaVbO",
        "outputId": "10b494f9-2792-49ae-851e-95ce73a090ba"
      },
      "id": "zxMSOehFaVbO",
      "execution_count": 34,
      "outputs": [
        {
          "output_type": "stream",
          "name": "stdout",
          "text": [
            "[[1 2 3 1 2 3 1 2 3]\n",
            " [1 2 3 1 2 3 1 2 3]]\n",
            "\n",
            " [1 1 1 2 2 2 3 3 3]\n"
          ]
        }
      ]
    },
    {
      "cell_type": "code",
      "source": [
        "from google.colab import drive\n",
        "drive.mount('/content/drive')"
      ],
      "metadata": {
        "colab": {
          "base_uri": "https://localhost:8080/"
        },
        "id": "-ZGFde08bWtB",
        "outputId": "f81244fa-c861-46b5-9a4d-fd739c17de85"
      },
      "id": "-ZGFde08bWtB",
      "execution_count": 41,
      "outputs": [
        {
          "output_type": "stream",
          "name": "stdout",
          "text": [
            "Mounted at /content/drive\n"
          ]
        }
      ]
    },
    {
      "cell_type": "code",
      "source": [
        "# Pandas Library\n",
        "\n",
        "import pandas as pd"
      ],
      "metadata": {
        "id": "8BNwN35ybIjr"
      },
      "id": "8BNwN35ybIjr",
      "execution_count": 36,
      "outputs": []
    },
    {
      "cell_type": "code",
      "source": [
        "df = pd.read_csv('/content/drive/MyDrive/Colab Notebooks/PlusW/Lecture 5/data.csv', delimiter = ';')\n",
        "print(df)"
      ],
      "metadata": {
        "colab": {
          "base_uri": "https://localhost:8080/"
        },
        "id": "gb5syP4gbQzQ",
        "outputId": "45204632-2fc1-4b02-8b25-6706689ce9b0"
      },
      "id": "gb5syP4gbQzQ",
      "execution_count": 44,
      "outputs": [
        {
          "output_type": "stream",
          "name": "stdout",
          "text": [
            "    Username   Identifier First name Last name\n",
            "0   booker12         9012     Rachel    Booker\n",
            "1     grey07         2070      Laura      Grey\n",
            "2  johnson81         4081      Craig   Johnson\n",
            "3  jenkins46         9346       Mary   Jenkins\n",
            "4    smith79         5079      Jamie     Smith\n"
          ]
        }
      ]
    },
    {
      "cell_type": "code",
      "source": [
        "df_excel = pd.read_excel('/content/drive/MyDrive/Colab Notebooks/PlusW/Lecture 5/data.xls')\n",
        "print(df_excel)"
      ],
      "metadata": {
        "colab": {
          "base_uri": "https://localhost:8080/"
        },
        "id": "KxwLSNPDkYvp",
        "outputId": "609ae5fb-570d-4fab-ce17-35eaf6dfa4fd"
      },
      "id": "KxwLSNPDkYvp",
      "execution_count": 49,
      "outputs": [
        {
          "output_type": "stream",
          "name": "stdout",
          "text": [
            "   0 First Name  Last Name  Gender        Country  Age        Date    Id\n",
            "0  1      Dulce      Abril  Female  United States   32  15/10/2017  1562\n",
            "1  2       Mara  Hashimoto  Female  Great Britain   25  16/08/2016  1582\n",
            "2  3     Philip       Gent    Male         France   36  21/05/2015  2587\n",
            "3  4   Kathleen     Hanner  Female  United States   25  15/10/2017  3549\n",
            "4  5    Nereida    Magwood  Female  United States   58  16/08/2016  2468\n",
            "5  6     Gaston      Brumm    Male  United States   24  21/05/2015  2554\n",
            "6  7       Etta       Hurn  Female  Great Britain   56  15/10/2017  3598\n",
            "7  8    Earlean     Melgar  Female  United States   27  16/08/2016  2456\n",
            "8  9   Vincenza    Weiland  Female  United States   40  21/05/2015  6548\n"
          ]
        }
      ]
    },
    {
      "cell_type": "code",
      "source": [
        "import json"
      ],
      "metadata": {
        "id": "BeASbHjkkg8n"
      },
      "id": "BeASbHjkkg8n",
      "execution_count": 50,
      "outputs": []
    },
    {
      "cell_type": "code",
      "source": [
        "df_json = pd.read_json('/content/drive/MyDrive/Colab Notebooks/PlusW/Lecture 5/data.json')\n",
        "print(df_json)"
      ],
      "metadata": {
        "colab": {
          "base_uri": "https://localhost:8080/"
        },
        "id": "UgsaUdCHkqyw",
        "outputId": "42eede1b-9938-4dd5-b078-552d4b6185d3"
      },
      "id": "UgsaUdCHkqyw",
      "execution_count": 51,
      "outputs": [
        {
          "output_type": "stream",
          "name": "stdout",
          "text": [
            "                                                    menu\n",
            "id                                                  file\n",
            "value                                               File\n",
            "popup  {'menuitem': [{'value': 'New', 'onclick': 'Cre...\n"
          ]
        }
      ]
    },
    {
      "cell_type": "code",
      "source": [
        "import sqlite3"
      ],
      "metadata": {
        "id": "lhthXqUNk11R"
      },
      "id": "lhthXqUNk11R",
      "execution_count": 53,
      "outputs": []
    },
    {
      "cell_type": "code",
      "source": [
        "conn =  sqlite3.connect('/content/drive/MyDrive/Colab Notebooks/PlusW/Lecture 5/data.db')\n",
        "\n",
        "df_sqlite = pd.read_sql_query(\"SELECT * FROM Car_Parts\", conn)\n",
        "print(df_sqlite)"
      ],
      "metadata": {
        "colab": {
          "base_uri": "https://localhost:8080/"
        },
        "id": "Tg1exF81k3YJ",
        "outputId": "40952080-ee85-4aae-dba9-7356407b7b32"
      },
      "id": "Tg1exF81k3YJ",
      "execution_count": 58,
      "outputs": [
        {
          "output_type": "stream",
          "name": "stdout",
          "text": [
            "   part_id       part_name  manufacture_plant_id manufacture_start_date  \\\n",
            "0        1     2.6L Engine                     1             2012-08-12   \n",
            "1        2     3.0L Engine                     2             2012-07-10   \n",
            "2        3     2.4L Engine                     5             2012-08-12   \n",
            "3        4  Jetrag 6 Speed                     5             2012-02-11   \n",
            "4        5      Bose Audio                     1             2014-08-02   \n",
            "5        6     4WD Chassis                     2             2000-08-29   \n",
            "6        7     2WD Chassis                     2             2005-12-20   \n",
            "\n",
            "  manufacture_end_date  part_recall  \n",
            "0           2013-08-12            0  \n",
            "1           2017-02-20            0  \n",
            "2           2013-08-12            0  \n",
            "3           2013-08-12            0  \n",
            "4           2015-03-12            0  \n",
            "5           2017-05-12            0  \n",
            "6           2017-11-01            0  \n"
          ]
        }
      ]
    },
    {
      "cell_type": "code",
      "source": [
        "chunksize = 200\n",
        "\n",
        "for chunk in pd.read_csv(\"/content/drive/MyDrive/Colab Notebooks/PlusW/Lecture 5/data.csv\", delimiter = \";\", chunksize = chunksize):\n",
        "  print(chunk.head())"
      ],
      "metadata": {
        "colab": {
          "base_uri": "https://localhost:8080/"
        },
        "id": "e82iQRz_lQgb",
        "outputId": "01f30824-caba-4fd5-a767-4fc1726fd219"
      },
      "id": "e82iQRz_lQgb",
      "execution_count": 60,
      "outputs": [
        {
          "output_type": "stream",
          "name": "stdout",
          "text": [
            "    Username   Identifier First name Last name\n",
            "0   booker12         9012     Rachel    Booker\n",
            "1     grey07         2070      Laura      Grey\n",
            "2  johnson81         4081      Craig   Johnson\n",
            "3  jenkins46         9346       Mary   Jenkins\n",
            "4    smith79         5079      Jamie     Smith\n"
          ]
        }
      ]
    },
    {
      "cell_type": "code",
      "source": [
        "# Memory usage optimization by converting data types\n",
        "\n",
        "df['Username'] = df['Username'].astype('category')\n",
        "\n",
        "print(df)"
      ],
      "metadata": {
        "colab": {
          "base_uri": "https://localhost:8080/"
        },
        "id": "edrVdJadlzPQ",
        "outputId": "46ae34cc-50d5-45aa-c920-9a579865dfe2"
      },
      "id": "edrVdJadlzPQ",
      "execution_count": 61,
      "outputs": [
        {
          "output_type": "stream",
          "name": "stdout",
          "text": [
            "    Username   Identifier First name Last name\n",
            "0   booker12         9012     Rachel    Booker\n",
            "1     grey07         2070      Laura      Grey\n",
            "2  johnson81         4081      Craig   Johnson\n",
            "3  jenkins46         9346       Mary   Jenkins\n",
            "4    smith79         5079      Jamie     Smith\n"
          ]
        }
      ]
    },
    {
      "cell_type": "code",
      "source": [
        "import os, glob, shutil"
      ],
      "metadata": {
        "id": "3UmXrowjmRZ0"
      },
      "id": "3UmXrowjmRZ0",
      "execution_count": 62,
      "outputs": []
    },
    {
      "cell_type": "code",
      "source": [
        "# Save all csv files move into backup folder\n",
        "\n",
        "csv_files = glob.glob('/content/drive/MyDrive/Colab Notebooks/PlusW/Lecture 5/*.csv')\n",
        "\n",
        "for csv_file in csv_files:\n",
        "  shutil.copy(csv_file, '/content/drive/MyDrive/Colab Notebooks/PlusW/Lecture 5/backup_test')"
      ],
      "metadata": {
        "id": "radLR5XUmFi_"
      },
      "id": "radLR5XUmFi_",
      "execution_count": 65,
      "outputs": []
    },
    {
      "cell_type": "code",
      "source": [
        "# Sample DataFrame\n",
        "\n",
        "data = {'Name': ['Alice', 'Bob', 'Charlie', None], 'Age': [25, 30, 35, None], 'Salary': [50000, 60000, None, 70000]}\n",
        "\n",
        "df = pd.DataFrame(data)\n",
        "print(df)"
      ],
      "metadata": {
        "colab": {
          "base_uri": "https://localhost:8080/"
        },
        "id": "y-smQkkQmfQ4",
        "outputId": "262a0583-afe9-4d09-f195-a21f2180f013"
      },
      "id": "y-smQkkQmfQ4",
      "execution_count": 67,
      "outputs": [
        {
          "output_type": "stream",
          "name": "stdout",
          "text": [
            "      Name   Age   Salary\n",
            "0    Alice  25.0  50000.0\n",
            "1      Bob  30.0  60000.0\n",
            "2  Charlie  35.0      NaN\n",
            "3     None   NaN  70000.0\n"
          ]
        }
      ]
    },
    {
      "cell_type": "code",
      "source": [
        "print(df.info())"
      ],
      "metadata": {
        "colab": {
          "base_uri": "https://localhost:8080/"
        },
        "id": "s-4ho-manRFg",
        "outputId": "730f98a4-b4cd-4553-c9b4-381f002f1398"
      },
      "id": "s-4ho-manRFg",
      "execution_count": 69,
      "outputs": [
        {
          "output_type": "stream",
          "name": "stdout",
          "text": [
            "<class 'pandas.core.frame.DataFrame'>\n",
            "RangeIndex: 4 entries, 0 to 3\n",
            "Data columns (total 3 columns):\n",
            " #   Column  Non-Null Count  Dtype  \n",
            "---  ------  --------------  -----  \n",
            " 0   Name    3 non-null      object \n",
            " 1   Age     3 non-null      float64\n",
            " 2   Salary  3 non-null      float64\n",
            "dtypes: float64(2), object(1)\n",
            "memory usage: 228.0+ bytes\n",
            "None\n"
          ]
        }
      ]
    },
    {
      "cell_type": "code",
      "source": [
        "print(df.head(2))\n",
        "print(\"\\n\", df.tail(2))\n",
        "print(\"\\n\", df.sample(2))"
      ],
      "metadata": {
        "colab": {
          "base_uri": "https://localhost:8080/"
        },
        "id": "jDiQyqVZnfRx",
        "outputId": "33b21ef7-b848-4edd-c37d-74eccf862f14"
      },
      "id": "jDiQyqVZnfRx",
      "execution_count": 71,
      "outputs": [
        {
          "output_type": "stream",
          "name": "stdout",
          "text": [
            "    Name   Age   Salary\n",
            "0  Alice  25.0  50000.0\n",
            "1    Bob  30.0  60000.0\n",
            "\n",
            "       Name   Age   Salary\n",
            "2  Charlie  35.0      NaN\n",
            "3     None   NaN  70000.0\n",
            "\n",
            "     Name   Age   Salary\n",
            "0  Alice  25.0  50000.0\n",
            "3   None   NaN  70000.0\n"
          ]
        }
      ]
    },
    {
      "cell_type": "code",
      "source": [
        "print(df.isnull().sum)\n",
        "print(\"\\n\", df.duplicated().sum, \"\\n\")\n",
        "boxplot = df.boxplot()"
      ],
      "metadata": {
        "colab": {
          "base_uri": "https://localhost:8080/",
          "height": 638
        },
        "id": "LFrOIKeAnyAC",
        "outputId": "8a8886b2-78ac-4779-f5b8-0e5cd7f4537a"
      },
      "id": "LFrOIKeAnyAC",
      "execution_count": 76,
      "outputs": [
        {
          "output_type": "stream",
          "name": "stdout",
          "text": [
            "<bound method DataFrame.sum of     Name    Age  Salary\n",
            "0  False  False   False\n",
            "1  False  False   False\n",
            "2  False  False    True\n",
            "3   True   True   False>\n",
            "\n",
            " <bound method Series.sum of 0    False\n",
            "1    False\n",
            "2    False\n",
            "3    False\n",
            "dtype: bool> \n",
            "\n"
          ]
        },
        {
          "output_type": "display_data",
          "data": {
            "text/plain": [
              "<Figure size 640x480 with 1 Axes>"
            ],
            "image/png": "[encoded data removed]"
          },
          "metadata": {}
        }
      ]
    },
    {
      "cell_type": "code",
      "source": [
        "print(df)\n",
        "print(\"\\n\", df.dropna())\n",
        "\n",
        "df_filled = df.copy()\n",
        "df_filled['Age'] = df_filled['Age'].fillna(df_filled['Age'].mean())\n",
        "df_filled['Salary'] = df_filled['Salary'].fillna(df_filled['Salary'].mean())\n",
        "\n",
        "#sdf_filled = df.fillna(df.mean())\n",
        "print(\"\\n\", df_filled)"
      ],
      "metadata": {
        "colab": {
          "base_uri": "https://localhost:8080/"
        },
        "id": "1QJ2GvCSoQDb",
        "outputId": "52fa0f87-e2fa-426a-ede2-655e8aaf6ab7"
      },
      "id": "1QJ2GvCSoQDb",
      "execution_count": 88,
      "outputs": [
        {
          "output_type": "stream",
          "name": "stdout",
          "text": [
            "      Name   Age   Salary\n",
            "0    Alice  25.0  50000.0\n",
            "1      Bob  30.0  60000.0\n",
            "2  Charlie  35.0      NaN\n",
            "3     None   NaN  70000.0\n",
            "\n",
            "     Name   Age   Salary\n",
            "0  Alice  25.0  50000.0\n",
            "1    Bob  30.0  60000.0\n",
            "\n",
            "       Name   Age   Salary\n",
            "0    Alice  25.0  50000.0\n",
            "1      Bob  30.0  60000.0\n",
            "2  Charlie  35.0  60000.0\n",
            "3     None  30.0  70000.0\n"
          ]
        }
      ]
    },
    {
      "cell_type": "code",
      "source": [
        "print(df.select_dtypes(include = [np.number]).corr())"
      ],
      "metadata": {
        "colab": {
          "base_uri": "https://localhost:8080/"
        },
        "id": "DPJ1f6LFn3_g",
        "outputId": "4bc29bb4-fd67-4732-99a0-626c3128be09"
      },
      "id": "DPJ1f6LFn3_g",
      "execution_count": 89,
      "outputs": [
        {
          "output_type": "stream",
          "name": "stdout",
          "text": [
            "        Age  Salary\n",
            "Age     1.0     1.0\n",
            "Salary  1.0     1.0\n"
          ]
        }
      ]
    },
    {
      "cell_type": "code",
      "source": [
        "print(df.groupby('Name').mean())"
      ],
      "metadata": {
        "colab": {
          "base_uri": "https://localhost:8080/"
        },
        "id": "HKo8LhGPsDx3",
        "outputId": "06708518-e88c-4e6d-8072-64b6b426216a"
      },
      "id": "HKo8LhGPsDx3",
      "execution_count": 90,
      "outputs": [
        {
          "output_type": "stream",
          "name": "stdout",
          "text": [
            "          Age   Salary\n",
            "Name                  \n",
            "Alice    25.0  50000.0\n",
            "Bob      30.0  60000.0\n",
            "Charlie  35.0      NaN\n"
          ]
        }
      ]
    },
    {
      "cell_type": "code",
      "source": [
        "data = {\n",
        "    'Name': ['Alice', 'Bob', 'Charlie', 'David', 'Eva', 'Alice'],\n",
        "    'Age': [25, 30, 35, 40, 45, None],  # Missing value in Age\n",
        "    'Salary': [50000, 60000, 70000, 80000, None, 50000]  # Missing value in Salary\n",
        "}\n",
        "\n",
        "\n",
        "df = pd.DataFrame(data)\n",
        "print(\"Original DataFrame:\\n\", df)\n",
        "\n",
        "\n",
        "df_cleaned = df.dropna()\n",
        "print(\"\\nDataFrame after missing values dropped:\\n\", df_cleaned)\n",
        "\n",
        "\n",
        "df_filled = df.copy()\n",
        "df_filled['Salary'] = df_filled['Salary'].fillna(df_filled['Salary'].mean())\n",
        "df_filled['Age'] = df_filled['Age'].fillna(df_filled['Age'].mean())\n",
        "print(\"\\nDataFrame after filling missing values:\\n\", df_filled)\n",
        "\n",
        "\n",
        "df_unique = df.drop_duplicates()\n",
        "print(\"\\nDataFrame after dropping duplicate values:\\n\", df_unique)\n",
        "\n",
        "\n",
        "df['Age'] = df['Age'].astype('Int64')\n",
        "print(\"\\nDataFrame after making Age nullable:\\n\", df)"
      ],
      "metadata": {
        "colab": {
          "base_uri": "https://localhost:8080/"
        },
        "id": "eCIc6cy2sM0B",
        "outputId": "c9eb397c-1726-4579-da48-4a216e23e9a4"
      },
      "id": "eCIc6cy2sM0B",
      "execution_count": 93,
      "outputs": [
        {
          "output_type": "stream",
          "name": "stdout",
          "text": [
            "Original DataFrame:\n",
            "       Name   Age   Salary\n",
            "0    Alice  25.0  50000.0\n",
            "1      Bob  30.0  60000.0\n",
            "2  Charlie  35.0  70000.0\n",
            "3    David  40.0  80000.0\n",
            "4      Eva  45.0      NaN\n",
            "5    Alice   NaN  50000.0\n",
            "\n",
            "DataFrame after missing values dropped:\n",
            "       Name   Age   Salary\n",
            "0    Alice  25.0  50000.0\n",
            "1      Bob  30.0  60000.0\n",
            "2  Charlie  35.0  70000.0\n",
            "3    David  40.0  80000.0\n",
            "\n",
            "DataFrame after filling missing values:\n",
            "       Name   Age   Salary\n",
            "0    Alice  25.0  50000.0\n",
            "1      Bob  30.0  60000.0\n",
            "2  Charlie  35.0  70000.0\n",
            "3    David  40.0  80000.0\n",
            "4      Eva  45.0  62000.0\n",
            "5    Alice  35.0  50000.0\n",
            "\n",
            "DataFrame after dropping duplicate values:\n",
            "       Name   Age   Salary\n",
            "0    Alice  25.0  50000.0\n",
            "1      Bob  30.0  60000.0\n",
            "2  Charlie  35.0  70000.0\n",
            "3    David  40.0  80000.0\n",
            "4      Eva  45.0      NaN\n",
            "5    Alice   NaN  50000.0\n",
            "\n",
            "DataFrame after making Age nullable:\n",
            "       Name   Age   Salary\n",
            "0    Alice    25  50000.0\n",
            "1      Bob    30  60000.0\n",
            "2  Charlie    35  70000.0\n",
            "3    David    40  80000.0\n",
            "4      Eva    45      NaN\n",
            "5    Alice  <NA>  50000.0\n"
          ]
        }
      ]
    },
    {
      "cell_type": "code",
      "source": [
        "data = {\n",
        "    'Name': ['Alice', 'Bob', 'Charlie', 'David', 'Eva', 'Alice'],\n",
        "    'Age': [25, 30, 35, 40, 45, 25],  # Alice appears twice\n",
        "    'Salary': [50000, 60000, 70000, 80000, 75000, 50000]\n",
        "}\n",
        "\n",
        "\n",
        "df = pd.DataFrame(data)\n",
        "print(df)\n",
        "\n",
        "\n",
        "corr = df[['Age', 'Salary']].corr()\n",
        "print(\"\\nCorrelation matrix:\\n\", corr)\n",
        "\n",
        "\n",
        "grouped = df.groupby('Name', as_index = False).mean()\n",
        "print(\"\\nGrouped Data (Mean of Age and Salary by Name):\\n\", grouped)"
      ],
      "metadata": {
        "colab": {
          "base_uri": "https://localhost:8080/"
        },
        "id": "12RC_oQNujTN",
        "outputId": "b04286be-043d-49d5-a17a-32ced846ad65"
      },
      "id": "12RC_oQNujTN",
      "execution_count": 95,
      "outputs": [
        {
          "output_type": "stream",
          "name": "stdout",
          "text": [
            "      Name  Age  Salary\n",
            "0    Alice   25   50000\n",
            "1      Bob   30   60000\n",
            "2  Charlie   35   70000\n",
            "3    David   40   80000\n",
            "4      Eva   45   75000\n",
            "5    Alice   25   50000\n",
            "\n",
            "Correlation matrix:\n",
            "              Age    Salary\n",
            "Age     1.000000  0.939948\n",
            "Salary  0.939948  1.000000\n",
            "\n",
            "Grouped Data (Mean of Age and Salary by Name):\n",
            "       Name   Age   Salary\n",
            "0    Alice  25.0  50000.0\n",
            "1      Bob  30.0  60000.0\n",
            "2  Charlie  35.0  70000.0\n",
            "3    David  40.0  80000.0\n",
            "4      Eva  45.0  75000.0\n"
          ]
        }
      ]
    }
  ],
  "metadata": {
    "colab": {
      "provenance": []
    },
    "language_info": {
      "name": "python"
    },
    "kernelspec": {
      "name": "python3",
      "display_name": "Python 3"
    }
  },
  "nbformat": 4,
  "nbformat_minor": 5
}