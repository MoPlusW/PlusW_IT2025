{
  "cells": [
    {
      "cell_type": "code",
      "source": [
        "# Assigning functions to variables\n",
        "\n",
        "def say_something():\n",
        "  print(\"This is me saying something\")\n",
        "\n",
        "\n",
        "\n",
        "ImJusSayin = say_something\n",
        "\n",
        "ImJusSayin()"
      ],
      "metadata": {
        "colab": {
          "base_uri": "https://localhost:8080/"
        },
        "id": "X_ddftgwtR-L",
        "outputId": "344969b6-f439-4896-c55d-06fab8434ba4"
      },
      "id": "X_ddftgwtR-L",
      "execution_count": null,
      "outputs": [
        {
          "output_type": "stream",
          "name": "stdout",
          "text": [
            "This is me saying something\n"
          ]
        }
      ]
    },
    {
      "cell_type": "code",
      "source": [
        "# Passing functions as arguments\n",
        "\n",
        "def add(a, b):\n",
        "  return a + b\n",
        "\n",
        "def sub(a, b):\n",
        "  return a - b\n",
        "\n",
        "def mult(a, b):\n",
        "  return a * b\n",
        "\n",
        "def div(a, b):\n",
        "  return a / b\n",
        "\n",
        "\n",
        "def opNumber(f, a, b):\n",
        "  return f(a, b)\n",
        "\n",
        "\n",
        "\n",
        "print(f\"The sum of 2 and 3 is: {opNumber(add, 2, 3)}\")\n",
        "print(f\"The difference of 2 and 3 is: {opNumber(sub, 2, 3)}\")\n",
        "print(f\"The product of 2 and 3 is: {opNumber(mult, 2, 3)}\")\n",
        "print(f\"The quotient of 2 and 3 is: {opNumber(div, 2, 3)}\")"
      ],
      "metadata": {
        "colab": {
          "base_uri": "https://localhost:8080/"
        },
        "id": "Z3sgS8WOIThR",
        "outputId": "cd2125a4-baa7-49e3-e500-633d98764e95"
      },
      "id": "Z3sgS8WOIThR",
      "execution_count": null,
      "outputs": [
        {
          "output_type": "stream",
          "name": "stdout",
          "text": [
            "The sum of 2 and 3 is: 5\n",
            "The difference of 2 and 3 is: -1\n",
            "The product of 2 and 3 is: 6\n",
            "The quotient of 2 and 3 is: 0.6666666666666666\n"
          ]
        }
      ]
    },
    {
      "cell_type": "code",
      "source": [
        "# Returning functions from other functions\n",
        "\n",
        "def adder(num1):\n",
        "  def adding(num2):\n",
        "    return num1 + num2\n",
        "  return adding\n",
        "\n",
        "\n",
        "\n",
        "startingAdd = adder(4)\n",
        "print(startingAdd(6))"
      ],
      "metadata": {
        "colab": {
          "base_uri": "https://localhost:8080/"
        },
        "id": "t4WM_N3eNFhe",
        "outputId": "fac8730e-d955-4054-88dd-5cca85c84360"
      },
      "id": "t4WM_N3eNFhe",
      "execution_count": null,
      "outputs": [
        {
          "output_type": "stream",
          "name": "stdout",
          "text": [
            "10\n"
          ]
        }
      ]
    },
    {
      "cell_type": "code",
      "source": [
        "# Recursive function\n",
        "\n",
        "def factorial(n):\n",
        "  if n == 1:\n",
        "    return 1\n",
        "  return n * factorial(n - 1)\n",
        "\n",
        "\n",
        "\n",
        "print(factorial(5))"
      ],
      "metadata": {
        "colab": {
          "base_uri": "https://localhost:8080/"
        },
        "id": "M-gaSFP9p5WW",
        "outputId": "7727476c-2495-4252-d246-f143c01cb9ce"
      },
      "id": "M-gaSFP9p5WW",
      "execution_count": null,
      "outputs": [
        {
          "output_type": "stream",
          "name": "stdout",
          "text": [
            "120\n"
          ]
        }
      ]
    },
    {
      "cell_type": "code",
      "source": [
        "# Doc strings\n",
        "\n",
        "def add(a, b):\n",
        "  '''Adds both the numbers passed as parameters'''\n",
        "  return a + b\n",
        "\n",
        "\n",
        "help(add)"
      ],
      "metadata": {
        "colab": {
          "base_uri": "https://localhost:8080/"
        },
        "id": "Su_uTJup-M6Z",
        "outputId": "b8c67006-153a-479a-dc9b-83e45e5f5eb3"
      },
      "id": "Su_uTJup-M6Z",
      "execution_count": null,
      "outputs": [
        {
          "output_type": "stream",
          "name": "stdout",
          "text": [
            "Help on function add in module __main__:\n",
            "\n",
            "add(a, b)\n",
            "    Adds both the numbers passed as parameters\n",
            "\n"
          ]
        }
      ]
    },
    {
      "cell_type": "code",
      "source": [
        "# Local variables\n",
        "\n",
        "def add():\n",
        "  a = 1\n",
        "  b = 1\n",
        "  print(f\"The sum of {a} and {b} is: {a + b}\")\n",
        "\n",
        "\n",
        "\n",
        "add()"
      ],
      "metadata": {
        "colab": {
          "base_uri": "https://localhost:8080/"
        },
        "id": "oEyLQOaZ_mXV",
        "outputId": "07d70cfa-9176-41ae-a7d3-f8b863760b73"
      },
      "id": "oEyLQOaZ_mXV",
      "execution_count": null,
      "outputs": [
        {
          "output_type": "stream",
          "name": "stdout",
          "text": [
            "The sum of 1 and 1 is: 2\n"
          ]
        }
      ]
    },
    {
      "cell_type": "code",
      "source": [
        "# Global variables\n",
        "\n",
        "a = 2\n",
        "b = 2\n",
        "\n",
        "def add():\n",
        "  print(f\"The sum of {a} and {b} is: {a + b}\")\n",
        "\n",
        "\n",
        "\n",
        "add()"
      ],
      "metadata": {
        "colab": {
          "base_uri": "https://localhost:8080/"
        },
        "id": "vR6y6MZOAUzB",
        "outputId": "226e56e7-5115-42df-8733-a3eae06a55d7"
      },
      "id": "vR6y6MZOAUzB",
      "execution_count": null,
      "outputs": [
        {
          "output_type": "stream",
          "name": "stdout",
          "text": [
            "The sum of 2 and 2 is: 4\n"
          ]
        }
      ]
    },
    {
      "cell_type": "code",
      "source": [
        "a = 10\n",
        "b = 20\n",
        "\n",
        "def add():\n",
        "  global b\n",
        "  b = 10\n",
        "  print(f\"The sum of {a} and {b} is: {a + b}\")\n",
        "\n",
        "\n",
        "\n",
        "add()"
      ],
      "metadata": {
        "colab": {
          "base_uri": "https://localhost:8080/"
        },
        "id": "5_ml_G_zAykH",
        "outputId": "fd49bbe0-4491-420e-d185-ae9690fdcc23"
      },
      "id": "5_ml_G_zAykH",
      "execution_count": null,
      "outputs": [
        {
          "output_type": "stream",
          "name": "stdout",
          "text": [
            "The sum of 10 and 10 is: 20\n"
          ]
        }
      ]
    },
    {
      "cell_type": "code",
      "source": [
        "def bigboy():\n",
        "  a = 6\n",
        "  def lilboy():\n",
        "    nonlocal a\n",
        "    a =5\n",
        "  lilboy()\n",
        "  print(f\"The value of x in the bigboy league is: {a}\")\n",
        "\n",
        "bigboy()"
      ],
      "metadata": {
        "colab": {
          "base_uri": "https://localhost:8080/"
        },
        "id": "dYFh3PtHB2IJ",
        "outputId": "6d01a245-63d6-483d-9334-50778dac4976"
      },
      "id": "dYFh3PtHB2IJ",
      "execution_count": null,
      "outputs": [
        {
          "output_type": "stream",
          "name": "stdout",
          "text": [
            "The value of x in the bigboy league is: 5\n"
          ]
        }
      ]
    },
    {
      "cell_type": "code",
      "source": [
        "import numpy as np"
      ],
      "metadata": {
        "id": "sej6wzvLDfV7"
      },
      "id": "sej6wzvLDfV7",
      "execution_count": 3,
      "outputs": []
    },
    {
      "cell_type": "code",
      "source": [
        "# Python lists and NumPy arrays\n",
        "\n",
        "za_py_list = [1, 2, 3, 4, 5]\n",
        "za_np_array = np.array([1, 2, 3, 4, 5])\n",
        "\n",
        "print(type(za_py_list))\n",
        "print(type(za_np_array))"
      ],
      "metadata": {
        "colab": {
          "base_uri": "https://localhost:8080/"
        },
        "id": "YI09jIYYDp38",
        "outputId": "746fafd0-c4e7-485c-d916-64670d6766c0"
      },
      "id": "YI09jIYYDp38",
      "execution_count": null,
      "outputs": [
        {
          "output_type": "stream",
          "name": "stdout",
          "text": [
            "<class 'list'>\n",
            "<class 'numpy.ndarray'>\n"
          ]
        }
      ]
    },
    {
      "cell_type": "code",
      "source": [
        "# Dimensional arrays\n",
        "\n",
        "array_1D = np.array([1, 2, 3, 4, 5])\n",
        "print(array_1D)\n",
        "\n",
        "array_2D = np.array([[1, 2, 3],\n",
        "                    [4, 5, 6]])\n",
        "print(array_2D)\n",
        "\n",
        "print(array_2D.ndim)"
      ],
      "metadata": {
        "colab": {
          "base_uri": "https://localhost:8080/"
        },
        "id": "9Tlj-4IlFHUY",
        "outputId": "396f528a-2cf8-4241-f8c2-b2bb2422dc7e"
      },
      "id": "9Tlj-4IlFHUY",
      "execution_count": null,
      "outputs": [
        {
          "output_type": "stream",
          "name": "stdout",
          "text": [
            "[1 2 3 4 5]\n",
            "[[1 2 3]\n",
            " [4 5 6]]\n",
            "2\n"
          ]
        }
      ]
    },
    {
      "cell_type": "code",
      "source": [
        "# Array of zeroes\n",
        "\n",
        "zeros_array = np.zeros((2, 3))\n",
        "print(zeros_array)\n",
        "\n",
        "\n",
        "# Array of ones\n",
        "\n",
        "ones_array = np.ones((2, 3))\n",
        "print(ones_array)\n",
        "\n",
        "\n",
        "# Array of nines\n",
        "\n",
        "nines_array = np.full((2, 3), 9)\n",
        "print(nines_array)"
      ],
      "metadata": {
        "colab": {
          "base_uri": "https://localhost:8080/"
        },
        "id": "dXAkYIq4xKPw",
        "outputId": "c09a0f5a-5dc7-4d5e-e9c0-910534a89612"
      },
      "id": "dXAkYIq4xKPw",
      "execution_count": null,
      "outputs": [
        {
          "output_type": "stream",
          "name": "stdout",
          "text": [
            "[[0. 0. 0.]\n",
            " [0. 0. 0.]]\n",
            "[[1. 1. 1.]\n",
            " [1. 1. 1.]]\n",
            "[[9 9 9]\n",
            " [9 9 9]]\n"
          ]
        }
      ]
    },
    {
      "cell_type": "code",
      "source": [
        "# Numpy array of evenly spaced values\n",
        "\n",
        "linspace_array = np.linspace(1, 21, 4)\n",
        "print(linspace_array)\n",
        "\n",
        "\n",
        "# Numpy array with number range\n",
        "\n",
        "range_array = np.arange(1, 21, 4)\n",
        "print(range_array)"
      ],
      "metadata": {
        "colab": {
          "base_uri": "https://localhost:8080/"
        },
        "id": "70emryXNz1K3",
        "outputId": "d654d72e-374a-49c5-c1ca-e21a22c118e3"
      },
      "id": "70emryXNz1K3",
      "execution_count": null,
      "outputs": [
        {
          "output_type": "stream",
          "name": "stdout",
          "text": [
            "[ 1.          7.66666667 14.33333333 21.        ]\n",
            "[ 1  5  9 13 17]\n"
          ]
        }
      ]
    },
    {
      "cell_type": "code",
      "source": [
        "# Random numpy array between 0 & 1\n",
        "\n",
        "ran_array = np.random.rand(3, 3)\n",
        "print(ran_array)\n",
        "\n",
        "\n",
        "# Random array between 1 & 499\n",
        "\n",
        "ran2_arr = np.random.randint(1, 500, (3, 3))\n",
        "print(ran2_arr)\n",
        "print(ran2_arr.ndim)"
      ],
      "metadata": {
        "colab": {
          "base_uri": "https://localhost:8080/"
        },
        "id": "yIYZnPqR3Ywp",
        "outputId": "2835d8b4-9918-49e8-d13d-77ea8486f22b"
      },
      "id": "yIYZnPqR3Ywp",
      "execution_count": null,
      "outputs": [
        {
          "output_type": "stream",
          "name": "stdout",
          "text": [
            "[[0.61289244 0.58761147 0.76993623]\n",
            " [0.00254025 0.03967435 0.253167  ]\n",
            " [0.8985413  0.32631835 0.8379252 ]]\n",
            "[[ 83 446 396]\n",
            " [ 71 337  87]\n",
            " [ 45  17 133]]\n",
            "2\n"
          ]
        }
      ]
    },
    {
      "cell_type": "code",
      "source": [
        "# Shape, size and dimensions of array\n",
        "\n",
        "arr3 = np.array([[1, 2, 3],\n",
        "                 [4, 5, 6]])\n",
        "\n",
        "print(arr3.shape)\n",
        "print(arr3.size)\n",
        "print(arr3.ndim)"
      ],
      "metadata": {
        "colab": {
          "base_uri": "https://localhost:8080/"
        },
        "id": "ds3ZahFd5yA0",
        "outputId": "d8eea212-9945-4a39-d549-1a02253e2582"
      },
      "id": "ds3ZahFd5yA0",
      "execution_count": null,
      "outputs": [
        {
          "output_type": "stream",
          "name": "stdout",
          "text": [
            "(2, 3)\n",
            "6\n",
            "2\n"
          ]
        }
      ]
    },
    {
      "cell_type": "code",
      "source": [
        "# Reshaping arrays\n",
        "\n",
        "og_array = np.array([9, 8, 7, 6, 5, 4])\n",
        "print(og_array)\n",
        "\n",
        "reshaped_array = og_array.reshape(2, 3)\n",
        "print(reshaped_array)"
      ],
      "metadata": {
        "colab": {
          "base_uri": "https://localhost:8080/"
        },
        "id": "HOVNeE5U6vSx",
        "outputId": "b9590962-44a5-4b54-b8ed-75b1872330b5"
      },
      "id": "HOVNeE5U6vSx",
      "execution_count": null,
      "outputs": [
        {
          "output_type": "stream",
          "name": "stdout",
          "text": [
            "[9 8 7 6 5 4]\n",
            "[[9 8 7]\n",
            " [6 5 4]]\n"
          ]
        }
      ]
    },
    {
      "cell_type": "code",
      "source": [
        "arr1 = np.array([1, 2, 3])\n",
        "arr2 = np.array([4, 5, 6])\n",
        "\n",
        "print(f\"The sum of {arr1} and {arr2} is: {arr1 + arr2}\")"
      ],
      "metadata": {
        "colab": {
          "base_uri": "https://localhost:8080/"
        },
        "id": "ENDMnCre7rzy",
        "outputId": "33404f30-cf61-4758-8133-863152a54494"
      },
      "id": "ENDMnCre7rzy",
      "execution_count": null,
      "outputs": [
        {
          "output_type": "stream",
          "name": "stdout",
          "text": [
            "The sum of [1 2 3] and [4 5 6] is: [5 7 9]\n"
          ]
        }
      ]
    },
    {
      "cell_type": "code",
      "source": [
        "# min, max, sum\n",
        "\n",
        "arr = np.array([[1, 2, 3],\n",
        "                [4, 5, 6]])\n",
        "\n",
        "print(np.max(arr))\n",
        "print(np.min(arr))\n",
        "print(np.sum(arr))"
      ],
      "metadata": {
        "colab": {
          "base_uri": "https://localhost:8080/"
        },
        "id": "aQFpg9kb79mv",
        "outputId": "b77624c4-1376-47cf-df68-726e7c317717"
      },
      "id": "aQFpg9kb79mv",
      "execution_count": null,
      "outputs": [
        {
          "output_type": "stream",
          "name": "stdout",
          "text": [
            "6\n",
            "1\n",
            "21\n"
          ]
        }
      ]
    },
    {
      "cell_type": "code",
      "source": [
        "# Array indexing\n",
        "\n",
        "arr = np.array([[1, 2, 3],\n",
        "                [4, 5, 6],\n",
        "                [7, 8, 9]])\n",
        "\n",
        "i = 2\n",
        "j = 2\n",
        "\n",
        "print(f\"A random number at index: ({i}, {j}) is {arr[i, j]}\")"
      ],
      "metadata": {
        "id": "9z382fJP84OG",
        "colab": {
          "base_uri": "https://localhost:8080/"
        },
        "outputId": "0955dc87-df1c-4c20-fe08-0882c1c7db92"
      },
      "id": "9z382fJP84OG",
      "execution_count": 6,
      "outputs": [
        {
          "output_type": "stream",
          "name": "stdout",
          "text": [
            "A random number at index: (2, 2) is 9\n"
          ]
        }
      ]
    },
    {
      "cell_type": "code",
      "source": [
        "# Slicing concept\n",
        "\n",
        "arr1 = np.array([9, 8, 7, 6, 5, 4, 3, 2, 1])\n",
        "print(arr1[::-1])\n",
        "\n",
        "\n",
        "arr2 = np.array([[9, 8, 7],\n",
        "                 [6, 5, 4],\n",
        "                 [3, 2, 1]])\n",
        "print(arr2[:-1:])"
      ],
      "metadata": {
        "colab": {
          "base_uri": "https://localhost:8080/"
        },
        "id": "DYiQxF4sqybB",
        "outputId": "52951753-57b5-499e-ffb2-4108805444da"
      },
      "id": "DYiQxF4sqybB",
      "execution_count": 18,
      "outputs": [
        {
          "output_type": "stream",
          "name": "stdout",
          "text": [
            "[1 2 3 4 5 6 7 8 9]\n",
            "[[9 8 7]\n",
            " [6 5 4]]\n"
          ]
        }
      ]
    },
    {
      "cell_type": "code",
      "source": [
        "# Conditional filtering\n",
        "\n",
        "arr = np.array([1, 2, 3, 4, 5, 6, 7, 8, 9])\n",
        "gibeth = np.where(arr > 7)\n",
        "\n",
        "print(gibeth)"
      ],
      "metadata": {
        "colab": {
          "base_uri": "https://localhost:8080/"
        },
        "id": "tTAdDJBQwIuz",
        "outputId": "eb297fca-bd96-4254-bdab-c64c47c44435"
      },
      "id": "tTAdDJBQwIuz",
      "execution_count": 20,
      "outputs": [
        {
          "output_type": "stream",
          "name": "stdout",
          "text": [
            "(array([7, 8]),)\n"
          ]
        }
      ]
    },
    {
      "cell_type": "code",
      "source": [
        "arr1 = np.array([9, 8, 7, 6, 5, 4, 3, 2, 1])\n",
        "print(arr1)\n",
        "\n",
        "arr2 = np.take(arr1, [0, 4, 6, 7])\n",
        "print(arr2)\n",
        "\n",
        "np.put(arr1, [0, 4, 6, 7], [5, 1, 8, 7])\n",
        "print(arr1)"
      ],
      "metadata": {
        "colab": {
          "base_uri": "https://localhost:8080/"
        },
        "id": "BsLSAn1Z2mXh",
        "outputId": "61b0a3da-1e85-469a-8b1e-90638d86a2f0"
      },
      "id": "BsLSAn1Z2mXh",
      "execution_count": 25,
      "outputs": [
        {
          "output_type": "stream",
          "name": "stdout",
          "text": [
            "[9 8 7 6 5 4 3 2 1]\n",
            "[9 5 3 2]\n",
            "[5 8 7 6 1 4 8 7 1]\n"
          ]
        }
      ]
    }
  ],
  "metadata": {
    "colab": {
      "provenance": []
    },
    "language_info": {
      "name": "python"
    },
    "kernelspec": {
      "name": "python3",
      "display_name": "Python 3"
    }
  },
  "nbformat": 4,
  "nbformat_minor": 5
}