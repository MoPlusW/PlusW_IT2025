{
  "nbformat": 4,
  "nbformat_minor": 0,
  "metadata": {
    "colab": {
      "provenance": []
    },
    "kernelspec": {
      "name": "python3",
      "display_name": "Python 3"
    },
    "language_info": {
      "name": "python"
    }
  },
  "cells": [
    {
      "cell_type": "code",
      "execution_count": null,
      "metadata": {
        "colab": {
          "base_uri": "https://localhost:8080/"
        },
        "id": "NWLtgxob4BcP",
        "outputId": "508f6b0a-c088-4eff-ef88-5bc5e38eab29"
      },
      "outputs": [
        {
          "output_type": "stream",
          "name": "stdout",
          "text": [
            "This is my second class of Python language\n"
          ]
        }
      ],
      "source": [
        "# Indentation\n",
        "if True:\n",
        "  print(\"This is my second class of Python language\")\n",
        "\n",
        "# comments\n",
        "# if True: ctrl + /\n",
        "# print(\"This is my second class of Python language\")"
      ]
    },
    {
      "cell_type": "code",
      "source": [
        "# Variables and constants\n",
        "name = 'asddfesdfsd'\n",
        "age = 22256\n",
        "\n",
        "PI = 3.14159 # constant (capital)\n",
        "\n",
        "print (\"My name is\", name)\n",
        "print (\"My age is\", age)\n",
        "print (PI)"
      ],
      "metadata": {
        "colab": {
          "base_uri": "https://localhost:8080/"
        },
        "id": "Pgc6fkRE4-9n",
        "outputId": "8eac6604-474d-421a-96c0-80700273a382"
      },
      "execution_count": null,
      "outputs": [
        {
          "output_type": "stream",
          "name": "stdout",
          "text": [
            "My name is asddfesdfsd\n",
            "My age is 22256\n",
            "3.14159\n"
          ]
        }
      ]
    },
    {
      "cell_type": "code",
      "source": [
        "# Input and output function\n",
        "name = input (\"Enter your name: \") # input function\n",
        "print (\"My name is\", name) # output function\n",
        "\n",
        "print (type(name))"
      ],
      "metadata": {
        "colab": {
          "base_uri": "https://localhost:8080/"
        },
        "id": "hdsUfpF85bjb",
        "outputId": "d820d7d6-27d3-4dfa-9568-e92e2ca8bb64"
      },
      "execution_count": null,
      "outputs": [
        {
          "output_type": "stream",
          "name": "stdout",
          "text": [
            "Enter your name: asddfesdfsd\n",
            "My name is asddfesdfsd\n",
            "<class 'str'>\n"
          ]
        }
      ]
    },
    {
      "cell_type": "code",
      "source": [
        "# Primitive data type\n",
        "x = 10 # integer\n",
        "y = 10.01 # float\n",
        "z = 4 +3j # imaginary\n",
        "\n",
        "print (\"Real number is\", z.real)\n",
        "print (\"Imaginary number is\", z.imag)"
      ],
      "metadata": {
        "colab": {
          "base_uri": "https://localhost:8080/"
        },
        "id": "4cUpZtDI5_FO",
        "outputId": "e8e9f8f4-0fc1-45bb-9a94-ba3785301554"
      },
      "execution_count": null,
      "outputs": [
        {
          "output_type": "stream",
          "name": "stdout",
          "text": [
            "Real number is 4.0\n",
            "Imaginary number is 3.0\n"
          ]
        }
      ]
    },
    {
      "cell_type": "code",
      "source": [
        "# String\n",
        "\n",
        "sentence = \"This is my second class of Python language\"\n",
        "print (\"First letter:\", sentence[0])\n",
        "print (\"Here is:\", sentence[-15])\n",
        "\n",
        "\n",
        "greeting = \"Python\" + \"language\"\n",
        "print (greeting)\n",
        "\n",
        "\n",
        "repeat = \"Python\" * 3\n",
        "print (repeat)\n",
        "\n",
        "\n",
        "print(\"Sliced string:\", sentence[0:4])\n",
        "print(\"Sliced string:\", sentence[0:23])\n",
        "\n",
        "\n",
        "print (\"Lower case:\", sentence.lower())\n",
        "print (\"Upper case:\", sentence.upper())\n",
        "\n",
        "\n",
        "print (\"replace:\", sentence.replace(\"Python\", \"C++\"))"
      ],
      "metadata": {
        "colab": {
          "base_uri": "https://localhost:8080/"
        },
        "id": "pthxzZN46ilk",
        "outputId": "aafb72de-33ae-42d0-b5f2-53953bcac414"
      },
      "execution_count": null,
      "outputs": [
        {
          "output_type": "stream",
          "name": "stdout",
          "text": [
            "First letter: T\n",
            "Here is: P\n",
            "Pythonlanguage\n",
            "PythonPythonPython\n",
            "Sliced string: This\n",
            "Sliced string: This is my second class\n",
            "Lower case: this is my second class of python language\n",
            "Upper case: THIS IS MY SECOND CLASS OF PYTHON LANGUAGE\n",
            "replace: This is my second class of C++ language\n"
          ]
        }
      ]
    },
    {
      "cell_type": "code",
      "source": [
        "# Collect Data Types\n",
        "\n",
        "# List\n",
        "numbers = [1, 2, 3, 4, 5]\n",
        "\n",
        "numbers.append(6)\n",
        "print (numbers)\n",
        "\n",
        "# List slicing\n",
        "numbers[:3] # 0, 1, 2"
      ],
      "metadata": {
        "colab": {
          "base_uri": "https://localhost:8080/"
        },
        "id": "hU2sTjpH8qkn",
        "outputId": "1771e1ab-d2a4-435c-d596-478beac7f093"
      },
      "execution_count": null,
      "outputs": [
        {
          "output_type": "stream",
          "name": "stdout",
          "text": [
            "[1, 2, 3, 4, 5, 6]\n"
          ]
        },
        {
          "output_type": "execute_result",
          "data": {
            "text/plain": [
              "[1, 2, 3]"
            ]
          },
          "metadata": {},
          "execution_count": 13
        }
      ]
    },
    {
      "cell_type": "code",
      "source": [
        "# Tuple\n",
        "numbers = (1, 2, 3, 4, 5)\n",
        "\n",
        "print (numbers)\n",
        "print (numbers[:3])"
      ],
      "metadata": {
        "colab": {
          "base_uri": "https://localhost:8080/"
        },
        "id": "r0EXbj8z9pAR",
        "outputId": "90fe60f4-1c31-474a-9635-6d75d913ceb6"
      },
      "execution_count": null,
      "outputs": [
        {
          "output_type": "stream",
          "name": "stdout",
          "text": [
            "(1, 2, 3, 4, 5)\n",
            "(1, 2, 3)\n"
          ]
        }
      ]
    },
    {
      "cell_type": "code",
      "source": [
        "# Sets\n",
        "numbers = {1, 2, 3, 4, 5}\n",
        "\n",
        "numbers.add(5)\n",
        "\n",
        "print (numbers)"
      ],
      "metadata": {
        "colab": {
          "base_uri": "https://localhost:8080/"
        },
        "id": "usFRH7yv94ud",
        "outputId": "894d99d3-18fd-4cd3-aed6-8194b2bd85c2"
      },
      "execution_count": null,
      "outputs": [
        {
          "output_type": "stream",
          "name": "stdout",
          "text": [
            "{1, 2, 3, 4, 5}\n"
          ]
        }
      ]
    },
    {
      "cell_type": "code",
      "source": [
        "# Dictionary\n",
        "student = {\"name\": \"random\"} # key value pair\n",
        "\n",
        "student[\"name\"] = \"secondRandom\"\n",
        "print (student)\n",
        "\n",
        "student[\"age\"] = 22\n",
        "print(student)"
      ],
      "metadata": {
        "colab": {
          "base_uri": "https://localhost:8080/"
        },
        "id": "d-LhbCCU-Lyp",
        "outputId": "b96d33ba-a094-4097-cad5-6238fa313101"
      },
      "execution_count": null,
      "outputs": [
        {
          "output_type": "stream",
          "name": "stdout",
          "text": [
            "{'name': 'secondRandom'}\n",
            "{'name': 'secondRandom', 'age': 22}\n"
          ]
        }
      ]
    },
    {
      "cell_type": "code",
      "source": [
        "# Implicit Conversion\n",
        "a = 10\n",
        "b = 2.3\n",
        "\n",
        "sum = a + b\n",
        "print(sum)\n",
        "\n",
        "print(type(sum))"
      ],
      "metadata": {
        "colab": {
          "base_uri": "https://localhost:8080/"
        },
        "id": "0VlWLFFJ-5xT",
        "outputId": "c1433e07-ff53-4bee-c54c-037c41627dee"
      },
      "execution_count": null,
      "outputs": [
        {
          "output_type": "stream",
          "name": "stdout",
          "text": [
            "12.3\n",
            "<class 'float'>\n"
          ]
        }
      ]
    },
    {
      "cell_type": "code",
      "source": [
        "# Explicit Conversion\n",
        "age = \"22\"\n",
        "integer = 11\n",
        "\n",
        "age = int(age)\n",
        "# integer = str(integer)\n",
        "# float(age)\n",
        "\n",
        "print (type(age))\n",
        "\n",
        "result = age + integer\n",
        "print (result)"
      ],
      "metadata": {
        "colab": {
          "base_uri": "https://localhost:8080/"
        },
        "id": "bnDoQed4_K2y",
        "outputId": "48fb120a-3d64-49b5-86e0-7b1c634783a9"
      },
      "execution_count": null,
      "outputs": [
        {
          "output_type": "stream",
          "name": "stdout",
          "text": [
            "<class 'int'>\n",
            "33\n"
          ]
        }
      ]
    },
    {
      "cell_type": "code",
      "source": [
        "# Arithmetic Operators\n",
        "\n",
        "num1 = 10\n",
        "num2 = 4\n",
        "\n",
        "print(\"Addition:\", num1 + num2)\n",
        "print(\"Subtraction:\", num1 - num2)\n",
        "print(\"Multiplication:\", num1 * num2)\n",
        "print(\"Division:\", num1 / num2)\n",
        "print(\"Floor_Division:\", num1 // num2)\n",
        "print(\"Remainder:\", num1 % num2)\n",
        "print(\"Modulus:\", num1 % num2)\n",
        "print(\"Exponent:\", num1 ** num2) #power"
      ],
      "metadata": {
        "id": "iM2-VX7s_-S5",
        "colab": {
          "base_uri": "https://localhost:8080/"
        },
        "outputId": "7f162689-ee9a-4510-cc58-722566a16d2f"
      },
      "execution_count": null,
      "outputs": [
        {
          "output_type": "stream",
          "name": "stdout",
          "text": [
            "Addition: 14\n",
            "Subtraction: 6\n",
            "Multiplication: 40\n",
            "Division: 2.5\n",
            "Floor_Division: 2\n",
            "Remainder: 2\n",
            "Modulus: 2\n",
            "Exponent: 10000\n"
          ]
        }
      ]
    },
    {
      "cell_type": "code",
      "source": [
        "# Comparison Operators\n",
        "\n",
        "print(\"Equal:\", num1 == num2)\n",
        "print(\"Not equal:\", num1 != num2)\n",
        "print(\"Greater then:\", num1 > num2)\n",
        "print(\"Less than:\", num1 < num2)\n"
      ],
      "metadata": {
        "id": "QUZ-G9zmAjJW",
        "colab": {
          "base_uri": "https://localhost:8080/"
        },
        "outputId": "98164c17-9b9a-44da-a2d0-bb462b1a3aae"
      },
      "execution_count": null,
      "outputs": [
        {
          "output_type": "stream",
          "name": "stdout",
          "text": [
            "Equal: False\n",
            "Not equal: True\n",
            "Greater then: True\n",
            "Less than: False\n"
          ]
        }
      ]
    },
    {
      "cell_type": "code",
      "source": [
        "# Logical Operators\n",
        "\n",
        "a = True\n",
        "b = False\n",
        "\n",
        "print(\"a AND b:\", a and b)\n",
        "print(\"a OR b:\", a or b)\n",
        "print(\"a NOT b:\", not b)"
      ],
      "metadata": {
        "id": "bQQaVW76BHkg",
        "colab": {
          "base_uri": "https://localhost:8080/"
        },
        "outputId": "5794b3f3-139a-45f6-9aa4-6d6103b0ea03"
      },
      "execution_count": null,
      "outputs": [
        {
          "output_type": "stream",
          "name": "stdout",
          "text": [
            "a AND b: False\n",
            "a OR b: True\n",
            "a NOT b: True\n"
          ]
        }
      ]
    },
    {
      "cell_type": "code",
      "source": [
        "# Assignment Operators\n",
        "\n",
        "a = 10\n",
        "a += 5 # a = a + 5\n",
        "a -= 5 # a = a - 5\n",
        "a *= 5 # a = a * 5\n",
        "a /= 5 # a = a / 5\n",
        "\n",
        "print(a)"
      ],
      "metadata": {
        "id": "GHASdukEBPHu",
        "colab": {
          "base_uri": "https://localhost:8080/"
        },
        "outputId": "2e26f574-77ef-4dbd-ae96-020b314058fa"
      },
      "execution_count": null,
      "outputs": [
        {
          "output_type": "stream",
          "name": "stdout",
          "text": [
            "10.0\n"
          ]
        }
      ]
    },
    {
      "cell_type": "code",
      "source": [
        "# Length Function\n",
        "\n",
        "sentence = \"A bunch of words\"\n",
        "\n",
        "print (len(sentence))"
      ],
      "metadata": {
        "colab": {
          "base_uri": "https://localhost:8080/"
        },
        "id": "R--_foy_uibJ",
        "outputId": "f3e82e48-7468-4e8b-ad4c-e1edc5e690f4"
      },
      "execution_count": null,
      "outputs": [
        {
          "output_type": "stream",
          "name": "stdout",
          "text": [
            "16\n"
          ]
        }
      ]
    },
    {
      "cell_type": "code",
      "source": [
        "# Split Function\n",
        "\n",
        "sentence = \"A: bunch: of: words\"\n",
        "\n",
        "print (sentence.split(':'))"
      ],
      "metadata": {
        "colab": {
          "base_uri": "https://localhost:8080/"
        },
        "id": "-n4qMw7quLul",
        "outputId": "87260b3d-ebef-41ac-c586-d20b99ce05bb"
      },
      "execution_count": null,
      "outputs": [
        {
          "output_type": "stream",
          "name": "stdout",
          "text": [
            "['A', ' bunch', ' of', ' words']\n"
          ]
        }
      ]
    },
    {
      "cell_type": "code",
      "source": [
        "# Random Function\n",
        "\n",
        "import random\n",
        "\n",
        "print(random.randint(1, 10))\n",
        "print(random.random())\n",
        "\n",
        "items = ['item1', 'item2', 'item3']\n",
        "print(random.choice(items))"
      ],
      "metadata": {
        "colab": {
          "base_uri": "https://localhost:8080/"
        },
        "id": "uJipaaY4u0Dn",
        "outputId": "03616646-0ef6-4ede-a187-85306b84882d"
      },
      "execution_count": null,
      "outputs": [
        {
          "output_type": "stream",
          "name": "stdout",
          "text": [
            "2\n",
            "0.8684478596522371\n",
            "item1\n"
          ]
        }
      ]
    }
  ]
}